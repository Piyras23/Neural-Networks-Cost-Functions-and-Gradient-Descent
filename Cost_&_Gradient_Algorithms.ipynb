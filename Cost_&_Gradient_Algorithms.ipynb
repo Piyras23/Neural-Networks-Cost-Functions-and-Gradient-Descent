{
 "cells": [
  {
   "cell_type": "code",
   "execution_count": 263,
   "metadata": {},
   "outputs": [],
   "source": [
    "import numpy as np\n",
    "import pandas as pd \n",
    "import matplotlib.pyplot as plt\n",
    "import math\n",
    "import mpl_toolkits\n",
    "from mpl_toolkits.mplot3d import axes3d\n",
    "from random import seed\n"
   ]
  },
  {
   "cell_type": "raw",
   "metadata": {},
   "source": []
  },
  {
   "cell_type": "code",
   "execution_count": 22,
   "metadata": {},
   "outputs": [],
   "source": [
    "# Load the data\n",
    "df = pd.read_csv(\"Workbook5.csv\")\n",
    "\n",
    "# Creating a dataframe of the loaded data csv file. \n",
    "df_new = pd.DataFrame(df.values, index= np.arange(len(df)), columns=[\"A\"])"
   ]
  },
  {
   "cell_type": "code",
   "execution_count": 23,
   "metadata": {},
   "outputs": [],
   "source": [
    "# Creating seperated columns for further conversion into arrays \n",
    "df_new[\"X\"] = df_new[\"A\"].apply(lambda x : x.split(\",\")[0])\n",
    "df_new[\"Y\"] = df_new[\"A\"].apply(lambda x: x.split(\",\")[1])\n",
    "\n",
    "# Deleting the redundant column\n",
    "del df_new[\"A\"]"
   ]
  },
  {
   "cell_type": "code",
   "execution_count": 78,
   "metadata": {},
   "outputs": [],
   "source": [
    "# Converting the Data type of the columns from string to floats.\n",
    "df_new[\"X\"]= df_new[\"X\"].astype(float)\n",
    "df_new[\"Y\"]=df_new[\"Y\"].astype(float)"
   ]
  },
  {
   "cell_type": "code",
   "execution_count": null,
   "metadata": {},
   "outputs": [],
   "source": []
  },
  {
   "cell_type": "code",
   "execution_count": 18,
   "metadata": {},
   "outputs": [],
   "source": [
    "# Returns numpy arrays X and y.\n",
    "X =  np.c_[np.ones(df_new.shape[0]), df_new.iloc[:,0]]\n",
    "y = np.c_[df_new.iloc[:,1]]"
   ]
  },
  {
   "cell_type": "raw",
   "metadata": {},
   "source": []
  },
  {
   "cell_type": "markdown",
   "metadata": {},
   "source": [
    "<h3>$ Normal \\ Equation \\ (Closed \\ Form \\ Solution) \\  : \\theta\\ = \\ (X^T . X)^-1  \\ . X^T . y\\ $</h3>"
   ]
  },
  {
   "cell_type": "raw",
   "metadata": {},
   "source": [
    "def normalEquation_1(X,y):\n",
    "    theta_best = np.linalg.inv(X.T.dot(X)).dot(X.T).dot(y)\n",
    "    return (theta_best)\n",
    "    \n",
    "normalEquation_1(X,y)"
   ]
  },
  {
   "cell_type": "code",
   "execution_count": 213,
   "metadata": {},
   "outputs": [
    {
     "name": "stdout",
     "output_type": "stream",
     "text": [
      "Theta is equal to [[-4.21150401]\n",
      " [ 1.21354725]]\n"
     ]
    },
    {
     "data": {
      "image/png": "[encoded data removed]",
      "text/plain": [
       "<Figure size 1080x216 with 1 Axes>"
      ]
     },
     "metadata": {},
     "output_type": "display_data"
    }
   ],
   "source": [
    "def normalEquation_1(X,y):\n",
    "    theta_best = np.linalg.inv(X.T.dot(X)).dot(X.T).dot(y)\n",
    "    return (theta_best)\n",
    "print(f\"Theta is equal to {normalEquation_1(X,y)}\")\n",
    "\n",
    "theta_best = np.linalg.inv(X.T.dot(X)).dot(X.T).dot(y)\n",
    "y_pred = X.dot(theta_best)\n",
    "\n",
    "plt.figure(figsize=(15,3))\n",
    "\n",
    "plt.plot(X[:,1],y_pred, \"-\")\n",
    "plt.scatter(X[:,1],y, edgecolors=\"red\")\n",
    "\n",
    "plt.xlabel(\"Independent Variable/Features: Columns X\")\n",
    "plt.ylabel(\"Dependent/Target Variable: Columns Y\")\n",
    "\n",
    "plt.show()"
   ]
  },
  {
   "cell_type": "raw",
   "metadata": {},
   "source": []
  },
  {
   "cell_type": "markdown",
   "metadata": {},
   "source": [
    "<h3>Using the formula for Cost function for Mutlivariate Linear Regression</h3>\n",
    "\n",
    "<h3>$Cost\\ Function \\ Equation: E(w0,w1) = \\frac 1{2M}\\sum_{i=1}^M\\ (h0(x_i) - y_i)^2\\ $</h3>"
   ]
  },
  {
   "cell_type": "code",
   "execution_count": 327,
   "metadata": {},
   "outputs": [
    {
     "data": {
      "text/plain": [
       "array([25.57824848,  6.83678098])"
      ]
     },
     "execution_count": 327,
     "metadata": {},
     "output_type": "execute_result"
    }
   ],
   "source": [
    "def normalEquation(X,y):\n",
    "    \n",
    "    m = int(len(X))\n",
    "    total_sum = 0\n",
    "    \n",
    "    for i in range(len(X)):\n",
    "        squared_error = (X[i] - y[i])**2\n",
    "        total_sum = total_sum + squared_error\n",
    "        \n",
    "    theta = (1/(2*m) * total_sum)\n",
    "    return theta\n",
    "\n",
    "normalEquation(X,y)"
   ]
  },
  {
   "cell_type": "code",
   "execution_count": 329,
   "metadata": {},
   "outputs": [
    {
     "data": {
      "text/plain": [
       "array([160.326244  ,  26.45456356])"
      ]
     },
     "execution_count": 329,
     "metadata": {},
     "output_type": "execute_result"
    }
   ],
   "source": [
    "squared_error = (X[1] - y[1])**2\n",
    "squared_error"
   ]
  },
  {
   "cell_type": "raw",
   "metadata": {},
   "source": []
  },
  {
   "cell_type": "markdown",
   "metadata": {},
   "source": []
  },
  {
   "cell_type": "code",
   "execution_count": 315,
   "metadata": {},
   "outputs": [],
   "source": [
    "\n",
    "def gradient_descent(X,y, theta = np.random.randn(2,1), num_of_iteration = 4, learning_rate = 0.07):\n",
    "    m = 1000\n",
    "    \n",
    "    cost_hisotry = []\n",
    "    \n",
    "    for iteration in range(num_of_iteration):\n",
    "        gradients = 2/m * X.T.dot(X.dot(theta) - y)\n",
    "        \n",
    "        cost_hisotry.append(gradients)\n",
    "       \n",
    "        theta = theta - learning_rate * gradients\n",
    "        plt.plot(X[:,1], X.dot(theta), \"-\")\n",
    "        plt.scatter(X[:,1],y, edgecolors=\"blue\")\n",
    "    \n",
    "    return (theta,cost_hisotry) \n"
   ]
  },
  {
   "cell_type": "code",
   "execution_count": 316,
   "metadata": {},
   "outputs": [
    {
     "data": {
      "text/plain": [
       "(array([[0.56745579],\n",
       "        [0.7346452 ]]), [array([[ -2.4101104 ],\n",
       "         [-25.75042775]]), array([[0.45366127],\n",
       "         [2.84619689]]), array([[ 0.13461142],\n",
       "         [-0.33518176]]), array([[0.16965705],\n",
       "         [0.01879709]])])"
      ]
     },
     "execution_count": 316,
     "metadata": {},
     "output_type": "execute_result"
    },
    {
     "data": {
      "image/png": "[encoded data removed]",
      "text/plain": [
       "<Figure size 432x288 with 1 Axes>"
      ]
     },
     "metadata": {},
     "output_type": "display_data"
    }
   ],
   "source": [
    "gradient_descent(X,y)"
   ]
  },
  {
   "cell_type": "code",
   "execution_count": null,
   "metadata": {},
   "outputs": [],
   "source": []
  },
  {
   "cell_type": "code",
   "execution_count": null,
   "metadata": {},
   "outputs": [],
   "source": []
  },
  {
   "cell_type": "code",
   "execution_count": null,
   "metadata": {},
   "outputs": [],
   "source": []
  },
  {
   "cell_type": "code",
   "execution_count": null,
   "metadata": {},
   "outputs": [],
   "source": []
  },
  {
   "cell_type": "code",
   "execution_count": null,
   "metadata": {},
   "outputs": [],
   "source": []
  },
  {
   "cell_type": "code",
   "execution_count": null,
   "metadata": {},
   "outputs": [],
   "source": []
  },
  {
   "cell_type": "code",
   "execution_count": 18,
   "metadata": {},
   "outputs": [
    {
     "name": "stdout",
     "output_type": "stream",
     "text": [
      "Cost for  0.5  is  1.0833333333333333\n",
      "Cost for  1.0  is  0.08333333333333333\n",
      "Cost for  1.5  is  0.25\n"
     ]
    }
   ],
   "source": [
    "# original data set\n",
    "X = [1, 2, 3]\n",
    "y = [1, 2.5, 3.5]\n",
    "\n",
    "# slope of best_fit_1 is 0.5\n",
    "# slope of best_fit_2 is 1.0\n",
    "# slope of best_fit_3 is 1.5\n",
    "\n",
    "hyps = [0.5, 1.0, 1.5] \n",
    "\n",
    "# mutiply the original X values by the theta \n",
    "# to produce hypothesis values for each X\n",
    "def multiply_matrix(mat, theta):\n",
    "    mutated = []\n",
    "    for i in range(len(mat)):\n",
    "        mutated.append(mat[i] * theta)\n",
    "\n",
    "    return mutated\n",
    "\n",
    "# calculate cost by looping each sample\n",
    "# subtract hyp(x) from y\n",
    "# square the result\n",
    "# sum them all together\n",
    "def calc_cost(m, X, y):\n",
    "    total = 0\n",
    "    for i in range(m):\n",
    "        squared_error = (y[i] - X[i]) ** 2\n",
    "        total += squared_error\n",
    "    \n",
    "    return total * (1 / (2*m))\n",
    "\n",
    "# calculate cost for each hypothesis\n",
    "for i in range(len(hyps)):\n",
    "    hyp_values = multiply_matrix(X, hyps[i])\n",
    "\n",
    "    print(\"Cost for \", hyps[i], \" is \", calc_cost(len(X), y, hyp_values))\n",
    "\n"
   ]
  },
  {
   "cell_type": "code",
   "execution_count": null,
   "metadata": {},
   "outputs": [],
   "source": []
  }
 ],
 "metadata": {
  "kernelspec": {
   "display_name": "Python 3",
   "language": "python",
   "name": "python3"
  },
  "language_info": {
   "codemirror_mode": {
    "name": "ipython",
    "version": 3
   },
   "file_extension": ".py",
   "mimetype": "text/x-python",
   "name": "python",
   "nbconvert_exporter": "python",
   "pygments_lexer": "ipython3",
   "version": "3.6.4"
  }
 },
 "nbformat": 4,
 "nbformat_minor": 2
}
